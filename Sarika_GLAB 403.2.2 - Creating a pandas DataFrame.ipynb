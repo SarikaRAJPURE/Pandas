{
 "cells": [
  {
   "cell_type": "code",
   "execution_count": 1,
   "id": "fcfa709a-9391-4f65-b4bf-b081d547037e",
   "metadata": {},
   "outputs": [],
   "source": [
    "import pandas as pd"
   ]
  },
  {
   "cell_type": "code",
   "execution_count": 2,
   "id": "80aea215-6527-44f8-96ea-af234ccd1ae0",
   "metadata": {},
   "outputs": [],
   "source": [
    "# Create a Python dictionary with data\n",
    "\n",
    "data_dict_1 = {\"Name\": [\"Alice\", \"Bob\", \"Charlie\"],\n",
    "               \"Age\": [25, 30, 22],\n",
    "               \"City\": [\"New York\", \"San Francisco\", \"Los Angeles\"]}"
   ]
  },
  {
   "cell_type": "code",
   "execution_count": 3,
   "id": "2f76c0d9-7dda-4e00-91ea-a34664244619",
   "metadata": {},
   "outputs": [],
   "source": [
    "# Use the dictionary to create a Pandas DataFrame\n",
    "df_1=pd.DataFrame(data_dict_1)"
   ]
  },
  {
   "cell_type": "code",
   "execution_count": 4,
   "id": "cec21ee4-88f4-4d6e-a38e-c73181c554f4",
   "metadata": {},
   "outputs": [
    {
     "name": "stdout",
     "output_type": "stream",
     "text": [
      "      Name  Age           City\n",
      "0    Alice   25       New York\n",
      "1      Bob   30  San Francisco\n",
      "2  Charlie   22    Los Angeles\n"
     ]
    }
   ],
   "source": [
    "# Print the resulting DataFrame\n",
    "print(df_1)"
   ]
  },
  {
   "cell_type": "code",
   "execution_count": 5,
   "id": "de2dde64-6138-42a0-bc23-4878b9b0177d",
   "metadata": {},
   "outputs": [],
   "source": [
    "# Create a Python dictionary with data\n",
    "data_dict_2 = {\"Name\": [\"Alice\", \"Bob\", \"Charlie\"],\n",
    "               \"Age\": [25, 30, 22],\n",
    "               \"City\": [\"New York\", \"San Francisco\", \"Los Angeles\"]}"
   ]
  },
  {
   "cell_type": "code",
   "execution_count": 6,
   "id": "3b079466-ff1c-4f8b-b190-e1f287f83015",
   "metadata": {},
   "outputs": [],
   "source": [
    "# Specify an index for the DataFrame\n",
    "index_2 = [\"Person1\", \"Person2\", \"Person3\"]"
   ]
  },
  {
   "cell_type": "code",
   "execution_count": 7,
   "id": "e20f7b9d-092b-49c2-9f1d-051de2619d48",
   "metadata": {},
   "outputs": [],
   "source": [
    "# Use the dictionary and index to create a Pandas DataFrame\n",
    "df_2 = pd.DataFrame(data_dict_2, index=index_2)"
   ]
  },
  {
   "cell_type": "code",
   "execution_count": 8,
   "id": "245d56b0-eccf-4298-8a76-bc2493ad2216",
   "metadata": {},
   "outputs": [
    {
     "name": "stdout",
     "output_type": "stream",
     "text": [
      "            Name  Age           City\n",
      "Person1    Alice   25       New York\n",
      "Person2      Bob   30  San Francisco\n",
      "Person3  Charlie   22    Los Angeles\n"
     ]
    }
   ],
   "source": [
    "# Print the resulting DataFrame\n",
    "print(df_2)"
   ]
  },
  {
   "cell_type": "code",
   "execution_count": 9,
   "id": "8a288905-9f3a-4052-bde9-54866cd2da8b",
   "metadata": {},
   "outputs": [],
   "source": [
    "#Task 2: Creating DataFrame from Python Lists\n",
    "# Create a list of lists with data\n",
    "data_list_1 = [[\"Alice\", 25, \"New York\"],\n",
    "               [\"Bob\", 30, \"San Francisco\"],\n",
    "               [\"Charlie\", 22, \"Los Angeles\"]]"
   ]
  },
  {
   "cell_type": "code",
   "execution_count": 10,
   "id": "93cf9b4f-5e6e-4ba2-aeac-9568dd50d0a9",
   "metadata": {},
   "outputs": [],
   "source": [
    "# Specify column names for the DataFrame\n",
    "columns_1 = [\"Name\", \"Age\", \"City\"]"
   ]
  },
  {
   "cell_type": "code",
   "execution_count": 22,
   "id": "2126ea18-52ea-46e6-9ddc-3d4a67586904",
   "metadata": {},
   "outputs": [],
   "source": [
    "# Use the list of lists and columns to create a Pandas DataFrame\n",
    "df_3=pd.DataFrame(data_list_1,columns=columns_1)"
   ]
  },
  {
   "cell_type": "code",
   "execution_count": 24,
   "id": "2835b72c-bd3b-48dd-8b44-37716d2425ea",
   "metadata": {},
   "outputs": [
    {
     "name": "stdout",
     "output_type": "stream",
     "text": [
      "      Name  Age           City\n",
      "0    Alice   25       New York\n",
      "1      Bob   30  San Francisco\n",
      "2  Charlie   22    Los Angeles\n"
     ]
    }
   ],
   "source": [
    "# Print the resulting DataFrame\n",
    "print(df_3)"
   ]
  },
  {
   "cell_type": "code",
   "execution_count": 26,
   "id": "71d207f0-c8ae-430d-b769-ba02b59913ed",
   "metadata": {},
   "outputs": [
    {
     "name": "stdout",
     "output_type": "stream",
     "text": [
      "  ID     Name Age\n",
      "0  1    Alice  25\n",
      "1  2      Bob  30\n",
      "2  3  Charlie  22\n"
     ]
    }
   ],
   "source": [
    "#Task 3: Creating DataFrame from Two-dimensional NumPy Arrays\n",
    "#Example 3.1\n",
    "import pandas as pd\n",
    "import numpy as np\n",
    "\n",
    "# Create a two-dimensional NumPy array with data\n",
    "data_array_1 = np.array([[1, \"Alice\", 25],\n",
    "                         [2, \"Bob\", 30],\n",
    "                         [3, \"Charlie\", 22]])\n",
    "\n",
    "# Specify column names for the DataFrame\n",
    "columns_2 = [\"ID\", \"Name\", \"Age\"]\n",
    "\n",
    "# Use the NumPy array and columns to create a Pandas DataFrame\n",
    "df_4 = pd.DataFrame(data_array_1, columns=columns_2)\n",
    "\n",
    "# Print the resulting DataFrame\n",
    "print(df_4)"
   ]
  },
  {
   "cell_type": "code",
   "execution_count": null,
   "id": "0bc7d077-bb18-465a-82a6-770530330256",
   "metadata": {},
   "outputs": [],
   "source": []
  },
  {
   "cell_type": "code",
   "execution_count": null,
   "id": "330ba2f9-5ba6-4d84-8ddf-a359558823db",
   "metadata": {},
   "outputs": [],
   "source": []
  },
  {
   "cell_type": "code",
   "execution_count": null,
   "id": "f80d2359-7bf0-46fe-815d-5b19241449dd",
   "metadata": {},
   "outputs": [],
   "source": []
  },
  {
   "cell_type": "code",
   "execution_count": null,
   "id": "eca10594-b33d-409e-9157-966dfdcad2e5",
   "metadata": {},
   "outputs": [],
   "source": []
  },
  {
   "cell_type": "code",
   "execution_count": null,
   "id": "3c08d972-c888-4ee9-953e-09c969e42097",
   "metadata": {},
   "outputs": [],
   "source": []
  },
  {
   "cell_type": "code",
   "execution_count": null,
   "id": "4aedd90a-f180-4ad9-9b8e-b4ebf16fa72e",
   "metadata": {},
   "outputs": [],
   "source": []
  }
 ],
 "metadata": {
  "kernelspec": {
   "display_name": "Python [conda env:base] *",
   "language": "python",
   "name": "conda-base-py"
  },
  "language_info": {
   "codemirror_mode": {
    "name": "ipython",
    "version": 3
   },
   "file_extension": ".py",
   "mimetype": "text/x-python",
   "name": "python",
   "nbconvert_exporter": "python",
   "pygments_lexer": "ipython3",
   "version": "3.12.7"
  }
 },
 "nbformat": 4,
 "nbformat_minor": 5
}
