{
 "cells": [
  {
   "cell_type": "code",
   "execution_count": 1,
   "id": "7864a3f4-4e3e-491f-b634-7daca030448c",
   "metadata": {},
   "outputs": [],
   "source": [
    "# Example 1.1: Slicing by rows\n",
    "# importing pandas library\n",
    "import pandas as pd"
   ]
  },
  {
   "cell_type": "code",
   "execution_count": 3,
   "id": "6c1bd5a6-7be6-4c72-bbec-c98d4e268500",
   "metadata": {},
   "outputs": [],
   "source": [
    "# Initializing the nested list with Data set\n",
    "employee_list = [['James', 36, 75, 5428000],\n",
    "               ['Villers', 38, 74, 3428000],\n",
    "               ['VKole', 31, 70, 8428000],\n",
    "               ['Smith', 34, 80, 4428000],\n",
    "               ['Gayle', 40, 100, 4528000],\n",
    "               ['Rooter', 33, 72, 7028000],\n",
    "               ['Peterson', 42, 85, 2528000],\n",
    "               ['John', 41, 85, 1528000],\n",
    "]   "
   ]
  },
  {
   "cell_type": "code",
   "execution_count": 11,
   "id": "cece9949-189c-4197-a1b6-535d8636f30e",
   "metadata": {},
   "outputs": [
    {
     "name": "stdout",
     "output_type": "stream",
     "text": [
      " ------data frame before slicing-----\n",
      "       Name  Age  Weight   Salary\n",
      "0     James   36      75  5428000\n",
      "1   Villers   38      74  3428000\n",
      "2     VKole   31      70  8428000\n",
      "3     Smith   34      80  4428000\n",
      "4     Gayle   40     100  4528000\n",
      "5    Rooter   33      72  7028000\n",
      "6  Peterson   42      85  2528000\n",
      "7      John   41      85  1528000\n"
     ]
    }
   ],
   "source": [
    "#creating a pandas dataframe\n",
    "df = pd.DataFrame(employee_list, columns=['Name', 'Age', 'Weight', 'Salary'])\n",
    "print(' ------data frame before slicing-----')\n",
    "print(df)"
   ]
  },
  {
   "cell_type": "code",
   "execution_count": 13,
   "id": "560bbe26-b4e9-4d02-9828-52724a5e39ef",
   "metadata": {},
   "outputs": [
    {
     "name": "stdout",
     "output_type": "stream",
     "text": [
      " ------data frame after slicing----\n",
      "      Name  Age  Weight   Salary\n",
      "0    James   36      75  5428000\n",
      "1  Villers   38      74  3428000\n",
      "2    VKole   31      70  8428000\n",
      "3    Smith   34      80  4428000\n"
     ]
    }
   ],
   "source": [
    "# Slicing rows in data frame\n",
    "df1 = df.iloc[0:4]\n",
    "print(' ------data frame after slicing----')\n",
    "print(df1)"
   ]
  },
  {
   "cell_type": "code",
   "execution_count": null,
   "id": "37d081cd-d75e-446b-bb4e-9161e9298955",
   "metadata": {},
   "outputs": [],
   "source": []
  }
 ],
 "metadata": {
  "kernelspec": {
   "display_name": "Python [conda env:base] *",
   "language": "python",
   "name": "conda-base-py"
  },
  "language_info": {
   "codemirror_mode": {
    "name": "ipython",
    "version": 3
   },
   "file_extension": ".py",
   "mimetype": "text/x-python",
   "name": "python",
   "nbconvert_exporter": "python",
   "pygments_lexer": "ipython3",
   "version": "3.12.7"
  }
 },
 "nbformat": 4,
 "nbformat_minor": 5
}
